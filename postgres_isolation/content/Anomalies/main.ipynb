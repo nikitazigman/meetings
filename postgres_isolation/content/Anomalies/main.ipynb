{
 "cells": [
  {
   "cell_type": "code",
   "execution_count": null,
   "metadata": {},
   "outputs": [],
   "source": [
    "\n",
    "import psycopg2\n",
    "\n",
    "def get_connection():\n",
    "    return psycopg2.connect(\n",
    "        dbname=\"platform\", \n",
    "        user=\"postgres\", \n",
    "        password=\"password\", \n",
    "        host=\"127.0.0.1\", \n",
    "        port=\"5432\"\n",
    "    )"
   ]
  },
  {
   "cell_type": "code",
   "execution_count": null,
   "metadata": {},
   "outputs": [],
   "source": [
    "connection = get_connection()\n",
    "with connection.cursor() as cursor:\n",
    "    cursor.execute(\n",
    "        \"\"\"\n",
    "        CREATE TABLE IF NOT EXISTS bank (id SERIAL PRIMARY KEY, account VARCHAR(255), balance FLOAT);\n",
    "        \"\"\"\n",
    "    )\n",
    "\n",
    "connection.commit()\n",
    "connection.close()"
   ]
  },
  {
   "cell_type": "code",
   "execution_count": null,
   "metadata": {},
   "outputs": [],
   "source": [
    "connection = get_connection()\n",
    "\n",
    "with connection.cursor() as cursor:\n",
    "    cursor.execute(\"INSERT INTO bank (account, balance) VALUES ('Alice', 100);\")\n",
    "    cursor.execute(\"INSERT INTO bank (account, balance) VALUES ('Bob', 100);\")\n",
    "\n",
    "connection.commit()\n",
    "connection.close()"
   ]
  },
  {
   "cell_type": "code",
   "execution_count": null,
   "metadata": {},
   "outputs": [],
   "source": [
    "connection = get_connection()\n",
    "\n",
    "with connection.cursor() as cursor:\n",
    "    cursor.execute(\"UPDATE bank SET balance = 100 WHERE account = 'Alice';\")\n",
    "    cursor.execute(\"UPDATE bank SET balance = 100 WHERE account = 'Bob';\")\n",
    "\n",
    "\n",
    "connection.commit()\n",
    "connection.close()"
   ]
  },
  {
   "cell_type": "markdown",
   "metadata": {},
   "source": [
    "# Dirty Read:\n",
    "A transaction reads data that has been modified by another transaction but not yet committed. If the other transaction rolls back, the data read by the first transaction becomes invalid."
   ]
  },
  {
   "cell_type": "markdown",
   "metadata": {},
   "source": [
    "# Non-Repeatable Read:\n",
    "A transaction reads the same data multiple times and gets different values each time because another transaction has modified the data and committed those changes in between the reads."
   ]
  },
  {
   "cell_type": "code",
   "execution_count": null,
   "metadata": {},
   "outputs": [],
   "source": [
    "connection1 = get_connection()"
   ]
  },
  {
   "cell_type": "code",
   "execution_count": null,
   "metadata": {},
   "outputs": [],
   "source": [
    "with connection1.cursor() as cursor:\n",
    "    cursor.execute(\"SELECT * FROM bank;\")\n",
    "    for row in cursor.fetchall():\n",
    "        print(row)"
   ]
  },
  {
   "cell_type": "code",
   "execution_count": null,
   "metadata": {},
   "outputs": [],
   "source": [
    "connection1.commit()\n",
    "connection1.close()"
   ]
  },
  {
   "cell_type": "code",
   "execution_count": null,
   "metadata": {},
   "outputs": [],
   "source": [
    "connection = get_connection()\n",
    "\n",
    "with connection.cursor() as cursor:\n",
    "    cursor.execute(\"UPDATE bank SET balance = 30 WHERE account = 'Alice';\")\n",
    "\n",
    "connection.commit()\n",
    "connection.close()"
   ]
  },
  {
   "cell_type": "markdown",
   "metadata": {},
   "source": [
    "# Phantom Read:\n",
    "A transaction reads a set of rows that satisfy a condition, and another transaction inserts or deletes rows that satisfy the same condition. The first transaction re-executes the query and sees a different set of rows."
   ]
  },
  {
   "cell_type": "code",
   "execution_count": null,
   "metadata": {},
   "outputs": [],
   "source": [
    "connection1 = get_connection()"
   ]
  },
  {
   "cell_type": "code",
   "execution_count": null,
   "metadata": {},
   "outputs": [],
   "source": [
    "connection1.commit()\n",
    "connection1.close()"
   ]
  },
  {
   "cell_type": "code",
   "execution_count": null,
   "metadata": {},
   "outputs": [],
   "source": [
    "with connection1.cursor() as cursor:\n",
    "    cursor.execute(\"SELECT * FROM bank WHERE balance > 50;\")\n",
    "    for row in cursor.fetchall():\n",
    "        print(row)"
   ]
  },
  {
   "cell_type": "code",
   "execution_count": null,
   "metadata": {},
   "outputs": [],
   "source": [
    "connection = get_connection()\n",
    "\n",
    "with connection.cursor() as cursor:\n",
    "    cursor.execute(\"INSERT INTO bank (account, balance) VALUES ('Dan', 100);\")\n",
    "\n",
    "connection.commit()\n",
    "connection.close()"
   ]
  },
  {
   "cell_type": "markdown",
   "metadata": {},
   "source": [
    "# Lost Update:\n",
    "Two or more transactions read the same data and then update it based on the read value. The final update will overwrite the changes made by the other transactions, leading to lost updates."
   ]
  },
  {
   "cell_type": "code",
   "execution_count": null,
   "metadata": {},
   "outputs": [],
   "source": [
    "connection1 = get_connection()\n",
    "connection2 = get_connection()\n"
   ]
  },
  {
   "cell_type": "code",
   "execution_count": null,
   "metadata": {},
   "outputs": [],
   "source": [
    "connection1.commit()\n",
    "connection1.close()"
   ]
  },
  {
   "cell_type": "code",
   "execution_count": null,
   "metadata": {},
   "outputs": [],
   "source": [
    "connection2.commit()\n",
    "connection2.close()"
   ]
  },
  {
   "cell_type": "code",
   "execution_count": null,
   "metadata": {},
   "outputs": [],
   "source": [
    "with connection1.cursor() as cursor:\n",
    "    cursor.execute(\"SELECT * FROM bank;\")\n",
    "    for row in cursor.fetchall():\n",
    "        print(row)"
   ]
  },
  {
   "cell_type": "code",
   "execution_count": null,
   "metadata": {},
   "outputs": [],
   "source": [
    "with connection2.cursor() as cursor:\n",
    "    cursor.execute(\"SELECT * FROM bank;\")\n",
    "    for row in cursor.fetchall():\n",
    "        print(row)"
   ]
  },
  {
   "cell_type": "code",
   "execution_count": null,
   "metadata": {},
   "outputs": [],
   "source": [
    "with connection1.cursor() as cursor:\n",
    "    cursor.execute(\"UPDATE bank SET balance = balance - 50 WHERE account = 'Alice';\")\n",
    "    cursor.execute(\"UPDATE bank SET balance = balance + 50 WHERE account = 'Bob';\")\n",
    "    "
   ]
  },
  {
   "cell_type": "code",
   "execution_count": null,
   "metadata": {},
   "outputs": [],
   "source": [
    "with connection2.cursor() as cursor:\n",
    "    cursor.execute(\"UPDATE bank SET balance = balance + 100 WHERE account = 'Alice';\")\n",
    "    cursor.execute(\"UPDATE bank SET balance = balance - 100 WHERE account = 'Bob';\")"
   ]
  },
  {
   "cell_type": "markdown",
   "metadata": {},
   "source": [
    "# Write Skew:\n",
    "Two transactions read overlapping sets of data and then update non-overlapping sets of data. The final state of the database may violate integrity constraints because the transactions were unaware of each other's updates."
   ]
  },
  {
   "cell_type": "code",
   "execution_count": null,
   "metadata": {},
   "outputs": [],
   "source": [
    "connection = get_connection()\n",
    "with connection.cursor() as cursor:\n",
    "    cursor.execute(\n",
    "        \"\"\"\n",
    "        CREATE TABLE IF NOT EXISTS hospital (id SERIAL PRIMARY KEY, duty Boolean);\n",
    "        \"\"\"\n",
    "    )\n",
    "    cursor.execute(\"INSERT INTO hospital (duty) VALUES (True);\")\n",
    "    cursor.execute(\"INSERT INTO hospital (duty) VALUES (True);\")\n",
    "        \n",
    "connection.commit()\n",
    "connection.close()"
   ]
  },
  {
   "cell_type": "code",
   "execution_count": null,
   "metadata": {},
   "outputs": [],
   "source": [
    "connection = get_connection()\n",
    "\n",
    "with connection.cursor() as cursor:\n",
    "    cursor.execute(\"SELECT * FROM hospital;\")\n",
    "    for row in cursor.fetchall():\n",
    "        print(row)\n",
    "\n",
    "connection.commit()\n",
    "connection.close()"
   ]
  },
  {
   "cell_type": "code",
   "execution_count": null,
   "metadata": {},
   "outputs": [],
   "source": [
    "connection1 = get_connection()\n",
    "connection2 = get_connection()"
   ]
  },
  {
   "cell_type": "code",
   "execution_count": null,
   "metadata": {},
   "outputs": [],
   "source": [
    "connection1.commit()\n",
    "connection1.close()"
   ]
  },
  {
   "cell_type": "code",
   "execution_count": null,
   "metadata": {},
   "outputs": [],
   "source": [
    "connection2.commit()\n",
    "connection2.close()"
   ]
  },
  {
   "cell_type": "code",
   "execution_count": null,
   "metadata": {},
   "outputs": [],
   "source": [
    "with connection1.cursor() as cursor:\n",
    "    cursor.execute(\"SELECT * FROM hospital;\")\n",
    "    for row in cursor.fetchall():\n",
    "        print(row)"
   ]
  },
  {
   "cell_type": "code",
   "execution_count": null,
   "metadata": {},
   "outputs": [],
   "source": [
    "with connection2.cursor() as cursor:\n",
    "    cursor.execute(\"SELECT * FROM hospital;\")\n",
    "    for row in cursor.fetchall():\n",
    "        print(row)"
   ]
  },
  {
   "cell_type": "code",
   "execution_count": null,
   "metadata": {},
   "outputs": [],
   "source": [
    "with connection1.cursor() as cursor:\n",
    "    cursor.execute(\"UPDATE hospital SET duty = false WHERE id = 1;\")"
   ]
  },
  {
   "cell_type": "code",
   "execution_count": null,
   "metadata": {},
   "outputs": [],
   "source": [
    "with connection2.cursor() as cursor:\n",
    "    cursor.execute(\"UPDATE hospital SET duty = false WHERE id = 2;\")"
   ]
  }
 ],
 "metadata": {
  "kernelspec": {
   "display_name": "access-scripts-pNSA3uNW-py3.11",
   "language": "python",
   "name": "python3"
  },
  "language_info": {
   "codemirror_mode": {
    "name": "ipython",
    "version": 3
   },
   "file_extension": ".py",
   "mimetype": "text/x-python",
   "name": "python",
   "nbconvert_exporter": "python",
   "pygments_lexer": "ipython3",
   "version": "3.11.8"
  }
 },
 "nbformat": 4,
 "nbformat_minor": 2
}
