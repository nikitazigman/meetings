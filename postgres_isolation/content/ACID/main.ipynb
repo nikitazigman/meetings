{
 "cells": [
  {
   "cell_type": "code",
   "execution_count": 21,
   "metadata": {},
   "outputs": [],
   "source": [
    "\n",
    "import psycopg2\n",
    "\n",
    "def get_connection():\n",
    "    return psycopg2.connect(\n",
    "        dbname=\"platform\",\n",
    "        user=\"postgres\",\n",
    "        password=\"password\",\n",
    "        host=\"127.0.0.1\",\n",
    "        port=\"5432\"\n",
    "    )"
   ]
  },
  {
   "cell_type": "code",
   "execution_count": 22,
   "metadata": {},
   "outputs": [],
   "source": [
    "connection = get_connection()\n",
    "with connection.cursor() as cursor:\n",
    "    cursor.execute(\n",
    "        \"\"\"\n",
    "        CREATE TABLE IF NOT EXISTS bank (id SERIAL PRIMARY KEY, account VARCHAR(255), balance FLOAT);\n",
    "        \"\"\"\n",
    "    )\n",
    "\n",
    "connection.commit()\n",
    "connection.close()"
   ]
  },
  {
   "cell_type": "markdown",
   "metadata": {},
   "source": [
    "# ACID \n",
    "\n",
    "* A - atomicity\n",
    "* C - Consistency \n",
    "* I - Isolation\n",
    "* D - Durability "
   ]
  },
  {
   "cell_type": "markdown",
   "metadata": {},
   "source": [
    "## Atomicity \n",
    "Either all the operations within the transaction are executed successfully, or none of them are. There is no in-between state where some operations have completed and others have not.\n",
    "\n",
    "* All-or-Nothing Principle:\n",
    "* Rollback Mechanism:\n",
    "* Commit:\n",
    "* Failure Handling:"
   ]
  },
  {
   "cell_type": "code",
   "execution_count": 23,
   "metadata": {},
   "outputs": [],
   "source": [
    "connection = get_connection()\n",
    "\n",
    "with connection.cursor() as cursor:\n",
    "    cursor.execute(\"INSERT INTO bank (account, balance) VALUES ('Alice', 100);\")\n",
    "\n",
    "connection.commit()\n",
    "connection.close()"
   ]
  },
  {
   "cell_type": "code",
   "execution_count": 26,
   "metadata": {},
   "outputs": [
    {
     "name": "stdout",
     "output_type": "stream",
     "text": [
      "(1, 'Alice', 100.0)\n"
     ]
    }
   ],
   "source": [
    "connection = get_connection()\n",
    "\n",
    "with connection.cursor() as cursor:\n",
    "    cursor.execute(\"SELECT * FROM bank;\")\n",
    "    for row in cursor.fetchall():\n",
    "        print(row)\n",
    "\n",
    "connection.close()"
   ]
  },
  {
   "cell_type": "code",
   "execution_count": 25,
   "metadata": {},
   "outputs": [
    {
     "ename": "ZeroDivisionError",
     "evalue": "division by zero",
     "output_type": "error",
     "traceback": [
      "\u001b[0;31m---------------------------------------------------------------------------\u001b[0m",
      "\u001b[0;31mZeroDivisionError\u001b[0m                         Traceback (most recent call last)",
      "Cell \u001b[0;32mIn[25], line 6\u001b[0m\n\u001b[1;32m      4\u001b[0m     \u001b[38;5;28;01mwith\u001b[39;00m connection\u001b[38;5;241m.\u001b[39mcursor() \u001b[38;5;28;01mas\u001b[39;00m cursor:\n\u001b[1;32m      5\u001b[0m         cursor\u001b[38;5;241m.\u001b[39mexecute(\u001b[38;5;124m\"\u001b[39m\u001b[38;5;124mINSERT INTO bank (account, balance) VALUES (\u001b[39m\u001b[38;5;124m'\u001b[39m\u001b[38;5;124mDan\u001b[39m\u001b[38;5;124m'\u001b[39m\u001b[38;5;124m, 100);\u001b[39m\u001b[38;5;124m\"\u001b[39m)\n\u001b[0;32m----> 6\u001b[0m         error \u001b[38;5;241m=\u001b[39m \u001b[38;5;241;43m1\u001b[39;49m\u001b[38;5;241;43m/\u001b[39;49m\u001b[38;5;241;43m0\u001b[39;49m\n\u001b[1;32m      7\u001b[0m     connection\u001b[38;5;241m.\u001b[39mcommit()\n\u001b[1;32m      8\u001b[0m \u001b[38;5;28;01mfinally\u001b[39;00m:\n",
      "\u001b[0;31mZeroDivisionError\u001b[0m: division by zero"
     ]
    }
   ],
   "source": [
    "connection = get_connection()\n",
    "\n",
    "try:\n",
    "    with connection.cursor() as cursor:\n",
    "        cursor.execute(\"INSERT INTO bank (account, balance) VALUES ('Dan', 100);\")\n",
    "        error = 1/0\n",
    "    connection.commit()\n",
    "finally:\n",
    "    connection.close()"
   ]
  },
  {
   "cell_type": "markdown",
   "metadata": {},
   "source": [
    "## Consistency\n",
    "It is forcing the rules.\\\n",
    "It ensures that all database transactions adhere to the predefined rules and constraints."
   ]
  },
  {
   "cell_type": "code",
   "execution_count": 27,
   "metadata": {},
   "outputs": [],
   "source": [
    "connection = get_connection()\n",
    "with connection.cursor() as cursor:\n",
    "    cursor.execute(\n",
    "        \"\"\"\n",
    "        ALTER TABLE bank ADD CONSTRAINT unique_account UNIQUE (account);\n",
    "        \"\"\"\n",
    "    )\n",
    "connection.commit()\n",
    "connection.close()"
   ]
  },
  {
   "cell_type": "code",
   "execution_count": 28,
   "metadata": {},
   "outputs": [
    {
     "ename": "UniqueViolation",
     "evalue": "duplicate key value violates unique constraint \"unique_account\"\nDETAIL:  Key (account)=(Alice) already exists.\n",
     "output_type": "error",
     "traceback": [
      "\u001b[0;31m---------------------------------------------------------------------------\u001b[0m",
      "\u001b[0;31mUniqueViolation\u001b[0m                           Traceback (most recent call last)",
      "Cell \u001b[0;32mIn[28], line 4\u001b[0m\n\u001b[1;32m      1\u001b[0m connection \u001b[38;5;241m=\u001b[39m get_connection()\n\u001b[1;32m      3\u001b[0m \u001b[38;5;28;01mwith\u001b[39;00m connection\u001b[38;5;241m.\u001b[39mcursor() \u001b[38;5;28;01mas\u001b[39;00m cursor:\n\u001b[0;32m----> 4\u001b[0m     \u001b[43mcursor\u001b[49m\u001b[38;5;241;43m.\u001b[39;49m\u001b[43mexecute\u001b[49m\u001b[43m(\u001b[49m\u001b[38;5;124;43m\"\u001b[39;49m\u001b[38;5;124;43mINSERT INTO bank (account, balance) VALUES (\u001b[39;49m\u001b[38;5;124;43m'\u001b[39;49m\u001b[38;5;124;43mAlice\u001b[39;49m\u001b[38;5;124;43m'\u001b[39;49m\u001b[38;5;124;43m, 100);\u001b[39;49m\u001b[38;5;124;43m\"\u001b[39;49m\u001b[43m)\u001b[49m\n\u001b[1;32m      6\u001b[0m connection\u001b[38;5;241m.\u001b[39mcommit()\n\u001b[1;32m      7\u001b[0m connection\u001b[38;5;241m.\u001b[39mclose()\n",
      "\u001b[0;31mUniqueViolation\u001b[0m: duplicate key value violates unique constraint \"unique_account\"\nDETAIL:  Key (account)=(Alice) already exists.\n"
     ]
    }
   ],
   "source": [
    "connection = get_connection()\n",
    "\n",
    "with connection.cursor() as cursor:\n",
    "    cursor.execute(\"INSERT INTO bank (account, balance) VALUES ('Alice', 100);\")\n",
    "\n",
    "connection.commit()\n",
    "connection.close()"
   ]
  },
  {
   "cell_type": "markdown",
   "metadata": {},
   "source": [
    "## Isolation\n",
    "Isolation in ACID ensures that transactions do not interfere with each other, maintaining a state as if transactions were executed sequentially."
   ]
  },
  {
   "cell_type": "code",
   "execution_count": 29,
   "metadata": {},
   "outputs": [],
   "source": [
    "connection1 = get_connection()"
   ]
  },
  {
   "cell_type": "code",
   "execution_count": 35,
   "metadata": {},
   "outputs": [],
   "source": [
    "connection1.commit()"
   ]
  },
  {
   "cell_type": "code",
   "execution_count": 37,
   "metadata": {},
   "outputs": [],
   "source": [
    "connection1.close()"
   ]
  },
  {
   "cell_type": "code",
   "execution_count": 33,
   "metadata": {},
   "outputs": [
    {
     "name": "stdout",
     "output_type": "stream",
     "text": [
      "(1, 'Alice', 100.0)\n",
      "(4, 'Bob', 100.0)\n"
     ]
    }
   ],
   "source": [
    "with connection1.cursor() as cursor:\n",
    "    cursor.execute(\"SELECT * FROM bank;\")\n",
    "    for row in cursor.fetchall():\n",
    "        print(row)"
   ]
  },
  {
   "cell_type": "code",
   "execution_count": 36,
   "metadata": {},
   "outputs": [
    {
     "name": "stdout",
     "output_type": "stream",
     "text": [
      "(1, 'Alice', 100.0)\n",
      "(4, 'Bob', 100.0)\n"
     ]
    }
   ],
   "source": [
    "connection = get_connection()\n",
    "\n",
    "with connection.cursor() as cursor:\n",
    "    cursor.execute(\"SELECT * FROM bank;\")\n",
    "    for row in cursor.fetchall():\n",
    "        print(row)\n",
    "\n",
    "connection.close()"
   ]
  },
  {
   "cell_type": "code",
   "execution_count": 32,
   "metadata": {},
   "outputs": [],
   "source": [
    "with connection1.cursor() as cursor:\n",
    "    cursor.execute(\"INSERT INTO bank (account, balance) VALUES ('Bob', 100);\")"
   ]
  },
  {
   "cell_type": "markdown",
   "metadata": {},
   "source": [
    "## Durability\n",
    "Once a transaction is committed, the changes made to the database will persist, regardless of power outages, crashes, or other failures. "
   ]
  }
 ],
 "metadata": {
  "kernelspec": {
   "display_name": "access-scripts-pNSA3uNW-py3.11",
   "language": "python",
   "name": "python3"
  },
  "language_info": {
   "codemirror_mode": {
    "name": "ipython",
    "version": 3
   },
   "file_extension": ".py",
   "mimetype": "text/x-python",
   "name": "python",
   "nbconvert_exporter": "python",
   "pygments_lexer": "ipython3",
   "version": "3.11.8"
  }
 },
 "nbformat": 4,
 "nbformat_minor": 2
}
