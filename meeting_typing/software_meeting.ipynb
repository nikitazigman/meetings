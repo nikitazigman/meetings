{
 "cells": [
  {
   "cell_type": "markdown",
   "metadata": {},
   "source": [
    "# OUTLINE: \n",
    "- Why do we need to use typing? \n",
    "- What is the basic flow to work with user input \n",
    "- Primitive types \n",
    "- Non-primitive types\n",
    "- Custom types \n",
    "- Alias, TypeVar, Generic (Intermediate lvl part)\n",
    "- How to use types and `pydantic` to parse user input?"
   ]
  },
  {
   "cell_type": "markdown",
   "metadata": {},
   "source": [
    "## Basic idea of working with an user input\n",
    "\n",
    "# [user input] -> [validation] -> [validated data]"
   ]
  },
  {
   "cell_type": "markdown",
   "metadata": {},
   "source": [
    "# Lets start from the primitive types "
   ]
  },
  {
   "cell_type": "code",
   "execution_count": 1,
   "metadata": {},
   "outputs": [
    {
     "name": "stdout",
     "output_type": "stream",
     "text": [
      "2.5\n"
     ]
    }
   ],
   "source": [
    "def divide(a: int, b: int) -> float:\n",
    "    return a/b\n",
    "\n",
    "result = divide(10, 4)\n",
    "print(result)"
   ]
  },
  {
   "cell_type": "code",
   "execution_count": 2,
   "metadata": {},
   "outputs": [
    {
     "name": "stdout",
     "output_type": "stream",
     "text": [
      "------Header1-------\n"
     ]
    }
   ],
   "source": [
    "def make_header(text: str)->str:\n",
    "    return f\"{text.capitalize():-^20}\"\n",
    "\n",
    "result: str = make_header(\"header1\")\n",
    "print(result)"
   ]
  },
  {
   "cell_type": "code",
   "execution_count": 3,
   "metadata": {},
   "outputs": [
    {
     "name": "stdout",
     "output_type": "stream",
     "text": [
      "False\n"
     ]
    }
   ],
   "source": [
    "def boolean_and(a: bool, b: bool)->bool:\n",
    "    return a and b\n",
    "\n",
    "result: bool = boolean_and(True, False)\n",
    "print(result)"
   ]
  },
  {
   "cell_type": "markdown",
   "metadata": {},
   "source": [
    "# Ok. Now lets consider embedded Non-primitive data types"
   ]
  },
  {
   "cell_type": "code",
   "execution_count": 4,
   "metadata": {},
   "outputs": [
    {
     "name": "stdout",
     "output_type": "stream",
     "text": [
      "1 2 3 4 5\n"
     ]
    }
   ],
   "source": [
    "def custom_join(data: list[int]) -> str:\n",
    "    str_list = [str(item) for item in data]\n",
    "    return \" \".join(str_list)\n",
    "\n",
    "result =  custom_join([1,2,3,4,5]) \n",
    "print(result)"
   ]
  },
  {
   "cell_type": "code",
   "execution_count": 5,
   "metadata": {},
   "outputs": [
    {
     "name": "stdout",
     "output_type": "stream",
     "text": [
      "1 2 3 4 5\n"
     ]
    }
   ],
   "source": [
    "\n",
    "def custom_join(data: set[int]) -> str:\n",
    "    str_list = [str(item) for item in data]\n",
    "    return \" \".join(str_list)\n",
    "\n",
    "result: str =  custom_join({1,2,3,4,5}) \n",
    "print(result)"
   ]
  },
  {
   "cell_type": "code",
   "execution_count": 6,
   "metadata": {},
   "outputs": [
    {
     "name": "stdout",
     "output_type": "stream",
     "text": [
      "1 2 3 4 5\n"
     ]
    }
   ],
   "source": [
    "def custom_join(data: tuple[int]) -> str:\n",
    "    str_list = [str(item) for item in data]\n",
    "    return \" \".join(str_list)\n",
    "\n",
    "result: str =  custom_join((1,2,3,4,5)) \n",
    "print(result)"
   ]
  },
  {
   "cell_type": "code",
   "execution_count": 7,
   "metadata": {},
   "outputs": [
    {
     "name": "stdout",
     "output_type": "stream",
     "text": [
      "foo&1 boo&2 zoo&3\n"
     ]
    }
   ],
   "source": [
    "def custom_join(data: dict[str, int]) -> str:\n",
    "    str_list = [f\"{key}&{value}\" for key, value in data.items()]\n",
    "    return \" \".join(str_list)\n",
    "\n",
    "result: str =  custom_join({\"foo\": 1, \"boo\": 2, \"zoo\": 3}) \n",
    "print(result)"
   ]
  },
  {
   "cell_type": "markdown",
   "metadata": {},
   "source": [
    "# Type is also an object"
   ]
  },
  {
   "cell_type": "code",
   "execution_count": 8,
   "metadata": {},
   "outputs": [
    {
     "name": "stdout",
     "output_type": "stream",
     "text": [
      "True test 3 4.5\n"
     ]
    }
   ],
   "source": [
    "from typing import Union, Optional\n",
    "\n",
    "PRIMITIVE_TYPE = Union[bool, str, int, float]\n",
    "\n",
    "def custom_join(data: Optional[list[PRIMITIVE_TYPE]]) -> Optional[str]:\n",
    "    if data is None:\n",
    "        return None\n",
    "    \n",
    "    str_list = [str(item) for item in data]\n",
    "    return \" \".join(str_list)\n",
    "\n",
    "result: str =  custom_join([True,\"test\",3,4.5]) \n",
    "print(result)"
   ]
  },
  {
   "cell_type": "markdown",
   "metadata": {},
   "source": [
    "# Soo. How to create our custom type? "
   ]
  },
  {
   "cell_type": "code",
   "execution_count": 9,
   "metadata": {},
   "outputs": [
    {
     "name": "stdout",
     "output_type": "stream",
     "text": [
      "length=25\n",
      "width=7\n",
      "area=175\n",
      "perimeter=64\n"
     ]
    }
   ],
   "source": [
    "from typing import Protocol\n",
    "\n",
    "class IRectangle(Protocol):\n",
    "    length: float\n",
    "    width: float\n",
    "    area: float\n",
    "    perimeter: float\n",
    "    \n",
    "   \n",
    "\n",
    "class Rectangle(IRectangle): \n",
    "    def __init__(self, length: float, width: float) -> None:\n",
    "        self.length = length\n",
    "        self.width = width\n",
    "    \n",
    "    @property\n",
    "    def area(self)->float:\n",
    "        return self.length*self.width\n",
    "    \n",
    "    @property\n",
    "    def perimeter(self)->float:\n",
    "        return self.length*2 + self.width*2\n",
    "    \n",
    "    def __str__(self) -> str:\n",
    "        return f\"length={self.length}\\nwidth={self.width}\\narea={self.area}\\nperimeter={self.perimeter}\"\n",
    "    \n",
    "\n",
    "def custom_sum(rectangles: list[IRectangle]) -> IRectangle:\n",
    "    length = sum([rectangle.length for rectangle in rectangles])\n",
    "    width = sum([rectangle.width for rectangle in rectangles])\n",
    "    \n",
    "    return Rectangle(length, width)\n",
    "\n",
    "rectangles = [Rectangle(10, 2), Rectangle(5, 2), Rectangle(10, 3)]\n",
    "\n",
    "rectangle = custom_sum(rectangles)\n",
    "\n",
    "print(rectangle)"
   ]
  },
  {
   "cell_type": "markdown",
   "metadata": {},
   "source": [
    "# if type is an object can we use it as a variable? \n",
    "# - YES"
   ]
  },
  {
   "cell_type": "markdown",
   "metadata": {},
   "source": [
    "# Generics: "
   ]
  },
  {
   "cell_type": "code",
   "execution_count": 11,
   "metadata": {},
   "outputs": [
    {
     "name": "stdout",
     "output_type": "stream",
     "text": [
      "biggest_rectangle: Rectangle(length=10, width=3)\n",
      "biggest_circle: Circle(radius=3)\n"
     ]
    }
   ],
   "source": [
    "from typing import TypeVar, Protocol\n",
    "from dataclasses import dataclass\n",
    "from math import pi\n",
    "\n",
    "class GeometryObject(Protocol):\n",
    "    area: float\n",
    "    perimeter: float\n",
    "    \n",
    "@dataclass\n",
    "class Rectangle:\n",
    "    length: float\n",
    "    width: float\n",
    "    \n",
    "    @property\n",
    "    def area(self)->float:\n",
    "        return self.length*self.width\n",
    "    \n",
    "    @property\n",
    "    def perimeter(self)->float:\n",
    "        return self.length*2 + self.width*2\n",
    "\n",
    "@dataclass()\n",
    "class Circle:\n",
    "    radius: float\n",
    "    \n",
    "    @property\n",
    "    def area(self)->float:\n",
    "        return self.radius**2 * pi\n",
    "    \n",
    "    @property\n",
    "    def perimeter(self)->float:\n",
    "        return self.radius*pi*2 \n",
    "\n",
    "GEOMETRY_OBJ_TYPE = TypeVar('GEOMETRY_OBJ_TYPE', bound=GeometryObject)\n",
    "\n",
    "def get_biggest_object(geometry_objs: list[GEOMETRY_OBJ_TYPE]) -> GEOMETRY_OBJ_TYPE:\n",
    "    return max(geometry_objs, key=lambda x: x.area)   \n",
    "\n",
    "circles = [Circle(1),Circle(3),Circle(2),Circle(2.5)]\n",
    "rectangles = [Rectangle(10, 2), Rectangle(5, 2), Rectangle(10, 3)]\n",
    "\n",
    "biggest_rectangle = get_biggest_object(rectangles)\n",
    "biggest_circle = get_biggest_object(circles)\n",
    "\n",
    "print(f\"biggest_rectangle: {biggest_rectangle}\")\n",
    "print(f\"biggest_circle: {biggest_circle}\")"
   ]
  },
  {
   "cell_type": "code",
   "execution_count": 12,
   "metadata": {},
   "outputs": [
    {
     "name": "stdout",
     "output_type": "stream",
     "text": [
      "Rectangle: Rectangle(length=10, width=2)\n",
      "rectangle_container.get_total_area()=60\n",
      "Circle: Circle(radius=1)\n",
      "circle_container.get_total_area()=63.61725123519331\n"
     ]
    }
   ],
   "source": [
    "from typing import Generic, TypeVar, Generic, Tuple, Protocol # noqa\n",
    "from dataclasses import dataclass\n",
    "from math import pi # noqa\n",
    "\n",
    "class GeometryObject(Protocol):\n",
    "    area: float\n",
    "    perimeter: float\n",
    "    \n",
    "@dataclass\n",
    "class Rectangle:\n",
    "    length: float\n",
    "    width: float\n",
    "    \n",
    "    @property\n",
    "    def area(self)->float:\n",
    "        return self.length*self.width\n",
    "    \n",
    "    @property\n",
    "    def perimeter(self)->float:\n",
    "        return self.length*2 + self.width*2\n",
    "\n",
    "@dataclass()\n",
    "class Circle:\n",
    "    radius: float\n",
    "    \n",
    "    @property\n",
    "    def area(self)->float:\n",
    "        return self.radius**2 * pi\n",
    "    \n",
    "    @property\n",
    "    def perimeter(self)->float:\n",
    "        return self.radius*pi*2 \n",
    "\n",
    "GEOMETRY_OBJ_TYPE = TypeVar('GEOMETRY_OBJ_TYPE', bound=GeometryObject)\n",
    "\n",
    "class ObjectContainer(Generic[GEOMETRY_OBJ_TYPE]):\n",
    "    def __init__(self) -> None:\n",
    "        self._container: dict[int, GEOMETRY_OBJ_TYPE] = {}\n",
    "    \n",
    "    def set_item(self, geometry_obj: GEOMETRY_OBJ_TYPE) -> int:\n",
    "        uid = hash(str(len(self._container)))\n",
    "        self._container[uid] = geometry_obj\n",
    "        return uid\n",
    "    \n",
    "    def get_item(self, uid: int)-> GEOMETRY_OBJ_TYPE:\n",
    "        return self._container[uid]\n",
    "    \n",
    "    def get_total_area(self)->float:\n",
    "        return sum([item.area for item in self._container.values()])\n",
    "    \n",
    "    def get_total_perimeter(self)->float:\n",
    "        return sum([item.perimeter for item in self._container.values()])\n",
    "\n",
    "def create_container(items: list[GEOMETRY_OBJ_TYPE])-> Tuple[ObjectContainer[GEOMETRY_OBJ_TYPE], list[int]]:\n",
    "    container: ObjectContainer[GEOMETRY_OBJ_TYPE] = ObjectContainer()\n",
    "    uids = []\n",
    "    for item in  items:\n",
    "        uid = container.set_item(item)\n",
    "        uids.append(uid)\n",
    "\n",
    "    return container, uids\n",
    "\n",
    "circle_container, circle_uids = create_container([Circle(1),Circle(3),Circle(2),Circle(2.5)])    \n",
    "rectangle_container, rectangle_uids = create_container([Rectangle(10, 2), Rectangle(5, 2), Rectangle(10, 3)])\n",
    "\n",
    "circle = circle_container.get_item(circle_uids[0])\n",
    "rectangle = rectangle_container.get_item(rectangle_uids[0])\n",
    "\n",
    "print(f\"Rectangle: {rectangle}\")\n",
    "print(f\"{rectangle_container.get_total_area()=}\")\n",
    "\n",
    "print(f\"Circle: {circle}\")\n",
    "print(f\"{circle_container.get_total_area()=}\")\n",
    "\n"
   ]
  },
  {
   "cell_type": "markdown",
   "metadata": {},
   "source": [
    "# AND FINALLY THE REASON WHY WE ARE HERE!!! \n",
    "# HOW TO USE ALL OF THIS S**** TO WRITE A PARSER?"
   ]
  },
  {
   "cell_type": "code",
   "execution_count": 13,
   "metadata": {},
   "outputs": [],
   "source": [
    "from typing import Any, TypeVar, Generic\n",
    "from xml.dom.minidom import Node\n",
    "\n",
    "from pydantic import BaseModel\n",
    "\n",
    "NodePropertyType = TypeVar(\"NodePropertyType\")\n",
    "LinkPropertyType = TypeVar(\"LinkPropertyType\")\n",
    "\n",
    "class BasicPropertiesType(BaseModel):\n",
    "    name: str\n",
    "\n",
    "\n",
    "class PackagePropertiesType(BaseModel):\n",
    "    name: str\n",
    "    package: str\n",
    "    launch_file: str\n",
    "    parameters: dict[str, Any] | None = None\n",
    "\n",
    "\n",
    "class StorageCellPropertiesType(BaseModel):\n",
    "    name: str\n",
    "    z: int\n",
    "    x: int\n",
    "    y: int\n",
    "\n",
    "\n",
    "class TF2RelationshipType(BaseModel):\n",
    "    x_offset: float\n",
    "    y_offset: float\n",
    "    z_offset: float\n",
    "\n",
    "\n",
    "class StorageCellRelationshipType(BaseModel):\n",
    "    row: int\n",
    "    column: int\n",
    "\n",
    "\n",
    "class LinkType(BaseModel, Generic[LinkPropertyType]):\n",
    "    parent: str\n",
    "    properties: LinkPropertyType | None = None\n",
    "\n",
    "\n",
    "class LinksType(BaseModel):\n",
    "    managed_by: LinkType[None] | None = None\n",
    "    controlled_by:LinkType[None] | None = None\n",
    "    attached_to: LinkType[TF2RelationshipType] | None = None\n",
    "    supervised_by: LinkType[None] | None = None\n",
    "    belong_to: LinkType[StorageCellRelationshipType] | None = None\n",
    "\n",
    "class NodeType(BaseModel, Generic[NodePropertyType]):\n",
    "    links: LinksType | None = None\n",
    "    properties: NodePropertyType\n",
    "\n",
    "class UserConfig(BaseModel):\n",
    "    version: str\n",
    "\n",
    "    SUPERVISOR: NodeType[BasicPropertiesType]\n",
    "    TF2: NodeType[BasicPropertiesType]\n",
    "    HARDWARE_BRIDGE: NodeType[PackagePropertiesType]\n",
    "\n",
    "    MANAGER: list[NodeType[PackagePropertiesType]]\n",
    "    CARRIER: list[NodeType[PackagePropertiesType]]\n",
    "    TOOL: list[NodeType[PackagePropertiesType]]\n",
    "    CONTROLLER: list[NodeType[PackagePropertiesType]]\n",
    "\n",
    "    STORAGE: list[NodeType[BasicPropertiesType]]\n",
    "    STORAGE_CELL: list[NodeType[StorageCellPropertiesType]]\n"
   ]
  },
  {
   "cell_type": "code",
   "execution_count": 14,
   "metadata": {},
   "outputs": [],
   "source": [
    "import yaml\n",
    "from pathlib import Path\n",
    "\n",
    "path_to_yaml = Path(__name__).resolve().parent.joinpath(\"config_file.yaml\")\n",
    "\n",
    "yaml_conf = {}\n",
    "with open(path_to_yaml) as f:\n",
    "    yaml_conf = yaml.safe_load(f)\n",
    "\n",
    "config = UserConfig(**yaml_conf)"
   ]
  },
  {
   "cell_type": "code",
   "execution_count": 16,
   "metadata": {},
   "outputs": [
    {
     "data": {
      "text/plain": [
       "PackagePropertiesType(name='Manger', package='move_manager_code', launch_file='move_manager_launch.py', parameters=None)"
      ]
     },
     "execution_count": 16,
     "metadata": {},
     "output_type": "execute_result"
    }
   ],
   "source": [
    "config.MANAGER[0].properties\n"
   ]
  }
 ],
 "metadata": {
  "kernelspec": {
   "display_name": "Python 3.7.9 ('venv': venv)",
   "language": "python",
   "name": "python3"
  },
  "language_info": {
   "codemirror_mode": {
    "name": "ipython",
    "version": 3
   },
   "file_extension": ".py",
   "mimetype": "text/x-python",
   "name": "python",
   "nbconvert_exporter": "python",
   "pygments_lexer": "ipython3",
   "version": "3.11.8"
  },
  "orig_nbformat": 4,
  "vscode": {
   "interpreter": {
    "hash": "e26c23ae0ef29ca3d9ea7482a435783f2f596e24742a2e0460d64220787513d1"
   }
  }
 },
 "nbformat": 4,
 "nbformat_minor": 2
}
